{
 "cells": [
  {
   "cell_type": "code",
   "execution_count": 1,
   "metadata": {},
   "outputs": [
    {
     "data": {
      "text/plain": [
       "75"
      ]
     },
     "execution_count": 1,
     "metadata": {},
     "output_type": "execute_result"
    }
   ],
   "source": [
    "import random\n",
    "random.randint(50, 100)"
   ]
  },
  {
   "cell_type": "code",
   "execution_count": 2,
   "metadata": {},
   "outputs": [
    {
     "data": {
      "text/plain": [
       "[62, 99, 87, 95, 94]"
      ]
     },
     "execution_count": 2,
     "metadata": {},
     "output_type": "execute_result"
    }
   ],
   "source": [
    "stu1 = list()\n",
    "for _ in range(5):\n",
    "    stu1.append(random.randint(50,  100))\n",
    "stu1"
   ]
  },
  {
   "cell_type": "code",
   "execution_count": 4,
   "metadata": {},
   "outputs": [
    {
     "data": {
      "text/plain": [
       "[[63, 80, 56, 88, 60],\n",
       " [77, 60, 71, 56, 61],\n",
       " [69, 53, 96, 87, 61],\n",
       " [77, 66, 62, 54, 71],\n",
       " [57, 71, 88, 76, 61],\n",
       " [98, 82, 63, 92, 64],\n",
       " [82, 92, 62, 71, 76],\n",
       " [79, 66, 90, 97, 55],\n",
       " [73, 68, 89, 93, 59],\n",
       " [51, 80, 90, 55, 71],\n",
       " [52, 74, 55, 75, 50],\n",
       " [53, 70, 93, 88, 83],\n",
       " [72, 90, 54, 57, 92],\n",
       " [58, 82, 90, 51, 52],\n",
       " [58, 69, 66, 91, 96],\n",
       " [76, 63, 74, 58, 85],\n",
       " [66, 65, 72, 97, 65],\n",
       " [50, 78, 50, 53, 62],\n",
       " [97, 78, 87, 99, 94],\n",
       " [77, 79, 97, 57, 53],\n",
       " [97, 91, 62, 67, 64],\n",
       " [69, 98, 92, 57, 61],\n",
       " [61, 94, 61, 73, 84],\n",
       " [99, 99, 91, 59, 71],\n",
       " [100, 96, 57, 88, 73],\n",
       " [80, 90, 83, 51, 53],\n",
       " [99, 73, 100, 60, 100],\n",
       " [100, 54, 62, 50, 58],\n",
       " [66, 91, 81, 86, 72],\n",
       " [74, 69, 52, 56, 61],\n",
       " [54, 69, 59, 50, 57],\n",
       " [80, 97, 84, 78, 92],\n",
       " [50, 57, 81, 57, 56],\n",
       " [62, 64, 90, 57, 55],\n",
       " [98, 89, 90, 53, 62],\n",
       " [77, 83, 99, 71, 85],\n",
       " [100, 93, 97, 60, 81],\n",
       " [61, 95, 97, 83, 72],\n",
       " [79, 78, 50, 76, 64],\n",
       " [88, 68, 51, 60, 71],\n",
       " [90, 58, 58, 93, 75],\n",
       " [74, 61, 61, 75, 86],\n",
       " [98, 87, 63, 68, 83],\n",
       " [100, 62, 83, 81, 73],\n",
       " [83, 70, 55, 75, 87],\n",
       " [72, 97, 97, 66, 66],\n",
       " [78, 55, 100, 68, 52],\n",
       " [64, 87, 68, 51, 97],\n",
       " [71, 98, 93, 72, 58],\n",
       " [92, 96, 85, 61, 71]]"
      ]
     },
     "execution_count": 4,
     "metadata": {},
     "output_type": "execute_result"
    }
   ],
   "source": [
    "#students=[] <-這個時候是等於沒有，後面用.append加上去值，進行50次每次5個分析的print\n",
    "students  = []\n",
    "for _  in range(50):\n",
    "    stu = list()\n",
    "    for _ in range(5):\n",
    "        stu.append(random.randint(50,  100))\n",
    "    students.append(stu)\n",
    "students"
   ]
  },
  {
   "cell_type": "code",
   "execution_count": 13,
   "metadata": {},
   "outputs": [],
   "source": [
    "text = '''python與中文\n",
    "1. 我們來試試看中文儲存能力。\n",
    "2. 許這個字會有編碼衝突風險。\n",
    "3. 犇這個字必須是utf8編碼才有。'''\n",
    "\n",
    "file = open('hello.txt',mode='w',encoding=\"utf-8\")\n",
    "print(text,file=file)\n",
    "file.close()"
   ]
  },
  {
   "cell_type": "code",
   "execution_count": 14,
   "metadata": {},
   "outputs": [],
   "source": [
    "file = open('hello1.txt',mode='w',encoding=\"utf-8\")\n",
    "file.write(\"這是第一行\\n\")\n",
    "file.write(\"這是第二行\\n\")\n",
    "file.writelines(\"\"\"這是第三行\n",
    "這是第四行\n",
    "這是第五行\n",
    "\"\"\")\n",
    "file.close()"
   ]
  },
  {
   "cell_type": "code",
   "execution_count": 15,
   "metadata": {},
   "outputs": [
    {
     "name": "stdout",
     "output_type": "stream",
     "text": [
      "這是第一行\n",
      "這是第二行\n",
      "這是第三行\n",
      "這是第四行\n",
      "這是第五行\n",
      "\n"
     ]
    }
   ],
   "source": [
    "file = open('hello1.txt',mode='r',encoding=\"utf-8\")\n",
    "all_text = file.read()\n",
    "print(all_text)"
   ]
  }
 ],
 "metadata": {
  "kernelspec": {
   "display_name": "Python 3",
   "language": "python",
   "name": "python3"
  },
  "language_info": {
   "codemirror_mode": {
    "name": "ipython",
    "version": 3
   },
   "file_extension": ".py",
   "mimetype": "text/x-python",
   "name": "python",
   "nbconvert_exporter": "python",
   "pygments_lexer": "ipython3",
   "version": "3.10.8"
  },
  "orig_nbformat": 4
 },
 "nbformat": 4,
 "nbformat_minor": 2
}
