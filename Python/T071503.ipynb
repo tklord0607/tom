{
 "cells": [
  {
   "cell_type": "code",
   "execution_count": 2,
   "metadata": {},
   "outputs": [
    {
     "data": {
      "text/plain": [
       "[[99, 56, 72, 58, 64],\n",
       " [73, 59, 87, 58, 100],\n",
       " [92, 99, 77, 76, 99],\n",
       " [62, 80, 52, 65, 87],\n",
       " [54, 91, 88, 85, 55],\n",
       " [88, 84, 98, 70, 56],\n",
       " [99, 65, 93, 87, 53],\n",
       " [57, 97, 64, 71, 59],\n",
       " [81, 58, 98, 71, 71],\n",
       " [86, 71, 68, 74, 72],\n",
       " [53, 68, 92, 67, 92],\n",
       " [52, 54, 57, 66, 91],\n",
       " [56, 83, 100, 80, 90],\n",
       " [95, 80, 87, 86, 50],\n",
       " [81, 53, 100, 57, 64],\n",
       " [72, 94, 60, 66, 80],\n",
       " [81, 88, 72, 95, 91],\n",
       " [96, 63, 94, 95, 99],\n",
       " [77, 98, 84, 98, 98],\n",
       " [53, 81, 99, 61, 50],\n",
       " [52, 99, 84, 57, 96],\n",
       " [53, 58, 69, 72, 90],\n",
       " [85, 95, 67, 96, 63],\n",
       " [70, 63, 54, 78, 99],\n",
       " [84, 57, 70, 52, 76],\n",
       " [85, 68, 75, 57, 56],\n",
       " [65, 80, 93, 90, 92],\n",
       " [75, 75, 77, 60, 59],\n",
       " [85, 54, 81, 74, 95],\n",
       " [88, 84, 63, 62, 65],\n",
       " [64, 100, 72, 59, 100],\n",
       " [60, 92, 77, 81, 71],\n",
       " [90, 65, 97, 85, 94],\n",
       " [50, 51, 67, 76, 53],\n",
       " [57, 80, 85, 74, 98],\n",
       " [68, 82, 52, 90, 74],\n",
       " [54, 89, 100, 54, 67],\n",
       " [88, 60, 79, 68, 56],\n",
       " [55, 73, 81, 75, 89],\n",
       " [62, 71, 96, 92, 82],\n",
       " [63, 80, 93, 85, 74],\n",
       " [77, 69, 50, 96, 97],\n",
       " [91, 58, 81, 99, 83],\n",
       " [100, 83, 80, 65, 62],\n",
       " [69, 86, 80, 86, 94],\n",
       " [64, 85, 89, 99, 77],\n",
       " [94, 80, 53, 75, 73],\n",
       " [83, 76, 54, 50, 98],\n",
       " [72, 75, 65, 61, 92],\n",
       " [64, 68, 77, 79, 70]]"
      ]
     },
     "execution_count": 2,
     "metadata": {},
     "output_type": "execute_result"
    }
   ],
   "source": [
    "import random\n",
    "students  = []\n",
    "for _  in range(50):\n",
    "    stu = list()\n",
    "    for _ in range(5):\n",
    "        stu.append(random.randint(50,  100))\n",
    "    students.append(stu)\n",
    "students"
   ]
  },
  {
   "cell_type": "code",
   "execution_count": 5,
   "metadata": {},
   "outputs": [],
   "source": [
    "import csv\n",
    "#用.csv後面一定要加字串->newline=\"\"\n",
    "#再來是用指令csv.writer傳到(檔案csv_write_file)\n",
    "#用writerow增加單行國/英/數/地/歷\n",
    "#writerows->將students多行換行寫入\n",
    "#最後都要加上close()\n",
    "csv_write_file = open('students.csv',newline='',mode='w',encoding='utf-8')\n",
    "csv_writer = csv.writer(csv_write_file)\n",
    "csv_writer.writerow(['國','英','數','地','歷'])\n",
    "csv_writer.writerows(students)\n",
    "csv_write_file.close()"
   ]
  }
 ],
 "metadata": {
  "kernelspec": {
   "display_name": "Python 3",
   "language": "python",
   "name": "python3"
  },
  "language_info": {
   "codemirror_mode": {
    "name": "ipython",
    "version": 3
   },
   "file_extension": ".py",
   "mimetype": "text/x-python",
   "name": "python",
   "nbconvert_exporter": "python",
   "pygments_lexer": "ipython3",
   "version": "3.10.8"
  },
  "orig_nbformat": 4
 },
 "nbformat": 4,
 "nbformat_minor": 2
}
