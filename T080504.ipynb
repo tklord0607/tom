{
 "cells": [
  {
   "cell_type": "code",
   "execution_count": 21,
   "metadata": {},
   "outputs": [
    {
     "data": {
      "text/plain": [
       "學生1     219\n",
       "學生2     243\n",
       "學生3     243\n",
       "學生4     213\n",
       "學生5     214\n",
       "學生6     215\n",
       "學生7     219\n",
       "學生8     233\n",
       "學生9     217\n",
       "學生10    222\n",
       "dtype: int64"
      ]
     },
     "metadata": {},
     "output_type": "display_data"
    },
    {
     "data": {
      "text/plain": [
       "array([69, 93, 93, 63, 64, 65, 69, 83, 67, 72])"
      ]
     },
     "metadata": {},
     "output_type": "display_data"
    },
    {
     "data": {
      "text/plain": [
       "Index(['學生1', '學生2', '學生3', '學生4', '學生5', '學生6', '學生7', '學生8', '學生9', '學生10'], dtype='object')"
      ]
     },
     "metadata": {},
     "output_type": "display_data"
    }
   ],
   "source": [
    "#安裝表格模組： pip install pandas\n",
    "import numpy as np\n",
    "import pandas as pd\n",
    "n1 = np.random.randint(50,100,size=(10,))\n",
    "s1 = pd.Series(data=n1,index=[f\"學生{i+1}\"for i in range(10)])\n",
    "display(s1+150)\n",
    "display(s1.values)\n",
    "display(s1.index)"
   ]
  },
  {
   "cell_type": "code",
   "execution_count": 12,
   "metadata": {},
   "outputs": [
    {
     "data": {
      "text/plain": [
       "學生1     338\n",
       "學生2     324\n",
       "學生3     303\n",
       "學生4     310\n",
       "學生5     300\n",
       "學生6     355\n",
       "學生7     362\n",
       "學生8     324\n",
       "學生9     304\n",
       "學生10    389\n",
       "dtype: int64"
      ]
     },
     "metadata": {},
     "output_type": "display_data"
    },
    {
     "data": {
      "text/plain": [
       "array([238, 224, 203, 210, 200, 255, 262, 224, 204, 289])"
      ]
     },
     "metadata": {},
     "output_type": "display_data"
    },
    {
     "data": {
      "text/plain": [
       "Index(['學生1', '學生2', '學生3', '學生4', '學生5', '學生6', '學生7', '學生8', '學生9', '學生10'], dtype='object')"
      ]
     },
     "metadata": {},
     "output_type": "display_data"
    }
   ],
   "source": [
    "import numpy as np\n",
    "import pandas as pd\n",
    "\n",
    "n1 = np.random.randint(200,300,size=(10,))\n",
    "s1 = pd.Series(data=n1,index=[f\"學生{i+1}\" for i in range(10)])\n",
    "display(s1+100)\n",
    "display(s1.values)\n",
    "display(s1.index)"
   ]
  },
  {
   "cell_type": "code",
   "execution_count": 22,
   "metadata": {},
   "outputs": [
    {
     "data": {
      "text/plain": [
       "['���a���B�Ÿa���B��֨�B�d��ī�B��ã��B������B�d�k���B�����ˡB���z�ӡB�G�۾��B�L���ӡB�ի��M�B�L���ۡB���짡�B�������B�����B���R�ΡB����m�B�L�y�͡B�L�ͤ��B���N�[�B�\\\\�ֲ[�B�Z�ɤ�B�����B���¦t�B�f�y���B�i�ɨq�B�������B���h�g�B���H�q�B�����t�B�թɧD�B���Q��B���Y�ɡB�L�����B���a�Y�B�d�Y��B�i���w�B���ӵӡB�G�w�Z�B�{�Ť�B���a���B�����g�B�i����B����\\u07b3�B�������B��̽n�B���R���B�L�����B���y�g�B�i�ζ��B���s�[�B�d�ɴ@�B���g�y�B���t���B��خS�B�L�Y���B�����F�B���ήe�B�L���@�B�´f�áB���ɿ��B�L�䦿�B�L���t�B���\\\\�j�B�������B���F�M�B�L��ݡB�\\\\�l�o�B��Q�s�B���y�Y�B�����f�B�L�ɩɡB���ة��B�]�Q��B��h�͡B���f�¡B�Z�Ȧ{�B�\\\\�R���B�i���g�B�d�W���B�d�ۧʡB���d�z�B�\\\\�Ѭ��B���F�^�B���쯾�B�]�N�[�B���N�F�B���w�@�B�i�oౡB���̯u�B�Z���o�BĬ�Q���B�Q�н��B���A���B���}�E�B�����u�B���Ǩ��B���ӲQ�B�L�z���B���W�浲�����H�W�@����100�Ӥ���m�W�A���m���@��12�ӡA��Ҭ��G12%�]<a href=\"big_10.htm\">���`��Ҭ��b11%���k</a>�^�C ']"
      ]
     },
     "execution_count": 22,
     "metadata": {},
     "output_type": "execute_result"
    }
   ],
   "source": [
    "import requests\n",
    "url = 'http://www.richyli.com/name/index.asp'\n",
    "response = requests.get(url)\n",
    "response.encoding  = 'big-5'\n",
    "result = response.text.splitlines()\n",
    "names = result[114].split('、')\n",
    "names"
   ]
  }
 ],
 "metadata": {
  "kernelspec": {
   "display_name": "Python 3",
   "language": "python",
   "name": "python3"
  },
  "language_info": {
   "codemirror_mode": {
    "name": "ipython",
    "version": 3
   },
   "file_extension": ".py",
   "mimetype": "text/x-python",
   "name": "python",
   "nbconvert_exporter": "python",
   "pygments_lexer": "ipython3",
   "version": "3.10.12"
  },
  "orig_nbformat": 4
 },
 "nbformat": 4,
 "nbformat_minor": 2
}
