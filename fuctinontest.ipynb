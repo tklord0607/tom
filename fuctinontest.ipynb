{
 "cells": [
  {
   "cell_type": "code",
   "execution_count": 4,
   "metadata": {},
   "outputs": [],
   "source": [
    "#0708下午輪入function的作法，執行後->後續都可以直接套入作運狦計算\n",
    "#return 傳送結果\n",
    "def fuc1(p1:int,p2:int):\n",
    "    return p1*p2/2"
   ]
  },
  {
   "cell_type": "code",
   "execution_count": 6,
   "metadata": {},
   "outputs": [
    {
     "name": "stdout",
     "output_type": "stream",
     "text": [
      "25.0\n",
      "70.0\n",
      "49.5\n",
      "1575.0\n",
      "1326.0\n"
     ]
    }
   ],
   "source": [
    "print(fuc1(5,10))\n",
    "print(fuc1(7,20))\n",
    "print(fuc1(9,11))\n",
    "print(fuc1(35,90))\n",
    "print(fuc1(34,78))"
   ]
  }
 ],
 "metadata": {
  "kernelspec": {
   "display_name": "Python 3",
   "language": "python",
   "name": "python3"
  },
  "language_info": {
   "codemirror_mode": {
    "name": "ipython",
    "version": 3
   },
   "file_extension": ".py",
   "mimetype": "text/x-python",
   "name": "python",
   "nbconvert_exporter": "python",
   "pygments_lexer": "ipython3",
   "version": "3.10.8"
  },
  "orig_nbformat": 4
 },
 "nbformat": 4,
 "nbformat_minor": 2
}
