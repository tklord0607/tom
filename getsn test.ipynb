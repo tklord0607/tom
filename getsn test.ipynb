import os
print(os,--file--)