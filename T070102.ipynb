{
 "cells": [
  {
   "cell_type": "code",
   "execution_count": 59,
   "metadata": {},
   "outputs": [
    {
     "name": "stdout",
     "output_type": "stream",
     "text": [
      "AC\n"
     ]
    }
   ],
   "source": [
    "a1=input(\"a\")\n",
    "b1=input(\"b\")\n",
    "c1=a1+b1\n",
    "if a1 > b1:print(f\"{a1}\")\n",
    "if a1 < b1:print(f\"{b1}\")\n",
    "else:print(f\"{c1}\")\n",
    "\n"
   ]
  },
  {
   "cell_type": "code",
   "execution_count": 40,
   "metadata": {},
   "outputs": [
    {
     "name": "stdout",
     "output_type": "stream",
     "text": [
      "sttotil:500\n"
     ]
    }
   ],
   "source": [
    "tt=int(input(\"tt(300)\"))\n",
    "s=input(\"stor(y,n)\")\n",
    "\n",
    "if s == \"y\":\n",
    "    tt=tt+tt*0.05\n",
    "    if tt>300:\n",
    "        tt=300\n",
    "\n",
    "print(f\"sttotil:{tt}\")\n",
    "\n"
   ]
  },
  {
   "cell_type": "code",
   "execution_count": 49,
   "metadata": {},
   "outputs": [
    {
     "name": "stdout",
     "output_type": "stream",
     "text": [
      "pass\n",
      "GG!\n"
     ]
    }
   ],
   "source": [
    "ci=int(input(\"ci\"))\n",
    "if ci < 60:\n",
    "    print(\"NG\")\n",
    "    \n",
    "else:\n",
    "    print(\"pass\")\n",
    "    if ci <80:\n",
    "        print(\"good\")\n",
    "    else:\n",
    "        print(\"GG!\")"
   ]
  },
  {
   "cell_type": "code",
   "execution_count": 76,
   "metadata": {},
   "outputs": [],
   "source": [
    "A=int(input(\"A1\"))\n",
    "if A >= 90 and A<=100:\n",
    "    print(\"S\")\n",
    "    if A>=80 and A<=89:\n",
    "      print(\"A\")\n",
    "      if A>=70 and A<=79:\n",
    "         print(\"b\")\n",
    "         if A>60 and A<=69:\n",
    "            print(\"c\")\n",
    "            if A>=0 and A<=59:\n",
    "               print(\"GG!\")\n",
    "    \n"
   ]
  },
  {
   "cell_type": "code",
   "execution_count": 80,
   "metadata": {},
   "outputs": [
    {
     "name": "stdout",
     "output_type": "stream",
     "text": [
      "GG!\n"
     ]
    }
   ],
   "source": [
    "A=int(input(\"A1\"))\n",
    "if A >= 90:\n",
    "   print(\"S\")\n",
    "else:\n",
    "    if A>=80:\n",
    "      print(\"A\")\n",
    "    else:\n",
    "      if A>=70:\n",
    "         print(\"b\")\n",
    "      else:\n",
    "         if A>60:\n",
    "            print(\"c\")\n",
    "         else:\n",
    "            print(\"GG!\")"
   ]
  },
  {
   "cell_type": "code",
   "execution_count": 93,
   "metadata": {},
   "outputs": [
    {
     "name": "stdout",
     "output_type": "stream",
     "text": [
      "A\n"
     ]
    }
   ],
   "source": [
    "A=int(input(\"A1\"))\n",
    "if A>100:\n",
    "        print(\"omg\")\n",
    "elif A >= 90:\n",
    "   print(\"S\")\n",
    "elif A>=80:\n",
    "      print(\"A\")\n",
    "elif A>=70:\n",
    "         print(\"b\")\n",
    "elif A>60:\n",
    "            print(\"c\")\n",
    "else:\n",
    "            print(\"GG!\")"
   ]
  },
  {
   "cell_type": "code",
   "execution_count": 113,
   "metadata": {},
   "outputs": [
    {
     "name": "stdout",
     "output_type": "stream",
     "text": [
      "chi no 100\n",
      "eng no 100\n",
      "0\n"
     ]
    }
   ],
   "source": [
    "chi=int(input(\"chi?\"))\n",
    "eng=int(input(\"eng?\"))\n",
    "\n",
    "if chi >= 100:\n",
    "    print(\"chi OK 100\")\n",
    "else:\n",
    "    print(\"chi no 100\")\n",
    "\n",
    "if eng >= 100:\n",
    "    print(\"eng ok 100\")\n",
    "else:\n",
    "    print(\"eng no 100\")\n",
    "if chi>=100 and eng>=100:\n",
    "    print(\"$1000\")\n",
    "elif chi>=100 or eng>=100:\n",
    "    print(\"$500\")\n",
    "else:\n",
    "    print(\"0\")\n"
   ]
  },
  {
   "cell_type": "code",
   "execution_count": null,
   "metadata": {},
   "outputs": [],
   "source": [
    "chi=int(input(\"chi?\"))\n",
    "eng=int(input(\"eng?\"))\n",
    "if chi == 100:\n",
    "    print(\"chi OK 100\")\n",
    "else:\n",
    "    print(\"chi no 100\")\n",
    "\n",
    "if eng == 100:\n",
    "    print(\"eng ok 100\")\n",
    "else:\n",
    "    print(\"eng no 100\")\n",
    "if chi==100 and eng==100:\n",
    "    print(\"$1000\")\n",
    "elif chi==100 or eng==100:\n",
    "    print(\"$500\")\n",
    "else:\n",
    "    print(\"0\")"
   ]
  },
  {
   "cell_type": "code",
   "execution_count": 118,
   "metadata": {},
   "outputs": [
    {
     "name": "stdout",
     "output_type": "stream",
     "text": [
      "gg go d\n"
     ]
    }
   ],
   "source": [
    "chi=int(input(\"chi?\"))\n",
    "if not chi==100:\n",
    "    print(\"gg go d\")"
   ]
  },
  {
   "cell_type": "code",
   "execution_count": null,
   "metadata": {},
   "outputs": [
    {
     "name": "stdout",
     "output_type": "stream",
     "text": [
      "5\n",
      "15\n",
      "25\n",
      "35\n",
      "45\n",
      "55\n",
      "65\n",
      "75\n",
      "85\n",
      "95\n"
     ]
    }
   ],
   "source": [
    "for i in range(5,100,10):\n",
    "    print(i)"
   ]
  },
  {
   "cell_type": "code",
   "execution_count": null,
   "metadata": {},
   "outputs": [
    {
     "name": "stdout",
     "output_type": "stream",
     "text": [
      "1~100=5050\n"
     ]
    }
   ],
   "source": [
    "r=0\n",
    "for i in range(1,101):\n",
    "    r=r+i\n",
    "print(f\"1~100={r}\")"
   ]
  },
  {
   "cell_type": "markdown",
   "metadata": {},
   "source": [
    "20230708"
   ]
  },
  {
   "cell_type": "code",
   "execution_count": 1,
   "metadata": {},
   "outputs": [
    {
     "name": "stdout",
     "output_type": "stream",
     "text": [
      "1\n",
      "2\n",
      "3\n",
      "4\n",
      "5\n",
      "6\n",
      "7\n",
      "8\n",
      "9\n"
     ]
    }
   ],
   "source": [
    "for i in range(1,10):\n",
    "    print(i)\n",
    " "
   ]
  },
  {
   "cell_type": "code",
   "execution_count": 3,
   "metadata": {},
   "outputs": [
    {
     "name": "stdout",
     "output_type": "stream",
     "text": [
      "1\n",
      "3\n",
      "5\n",
      "7\n",
      "9\n"
     ]
    }
   ],
   "source": [
    "for i in range(1,10,2):\n",
    "    print(i)\n",
    " "
   ]
  },
  {
   "cell_type": "code",
   "execution_count": 25,
   "metadata": {},
   "outputs": [
    {
     "name": "stdout",
     "output_type": "stream",
     "text": [
      "i=1\n",
      "1*1=1 哈哈 1*2=2 哈哈 1*3=3 哈哈 1*4=4 哈哈 1*5=5 哈哈 1*6=6 哈哈 1*7=7 哈哈 1*8=8 哈哈 1*9=9 哈哈 \n",
      "EEEEEEEEEEEEE\n",
      "i=2\n",
      "2*1=2 哈哈 2*2=4 哈哈 2*3=6 哈哈 2*4=8 哈哈 2*5=10 哈哈 2*6=12 哈哈 2*7=14 哈哈 2*8=16 哈哈 2*9=18 哈哈 \n",
      "EEEEEEEEEEEEE\n",
      "i=3\n",
      "3*1=3 哈哈 3*2=6 哈哈 3*3=9 哈哈 3*4=12 哈哈 3*5=15 哈哈 3*6=18 哈哈 3*7=21 哈哈 3*8=24 哈哈 3*9=27 哈哈 \n",
      "EEEEEEEEEEEEE\n",
      "i=4\n",
      "4*1=4 哈哈 4*2=8 哈哈 4*3=12 哈哈 4*4=16 哈哈 4*5=20 哈哈 4*6=24 哈哈 4*7=28 哈哈 4*8=32 哈哈 4*9=36 哈哈 \n",
      "EEEEEEEEEEEEE\n",
      "i=5\n",
      "5*1=5 哈哈 5*2=10 哈哈 5*3=15 哈哈 5*4=20 哈哈 5*5=25 哈哈 5*6=30 哈哈 5*7=35 哈哈 5*8=40 哈哈 5*9=45 哈哈 \n",
      "EEEEEEEEEEEEE\n",
      "i=6\n",
      "6*1=6 哈哈 6*2=12 哈哈 6*3=18 哈哈 6*4=24 哈哈 6*5=30 哈哈 6*6=36 哈哈 6*7=42 哈哈 6*8=48 哈哈 6*9=54 哈哈 \n",
      "EEEEEEEEEEEEE\n",
      "i=7\n",
      "7*1=7 哈哈 7*2=14 哈哈 7*3=21 哈哈 7*4=28 哈哈 7*5=35 哈哈 7*6=42 哈哈 7*7=49 哈哈 7*8=56 哈哈 7*9=63 哈哈 \n",
      "EEEEEEEEEEEEE\n",
      "i=8\n",
      "8*1=8 哈哈 8*2=16 哈哈 8*3=24 哈哈 8*4=32 哈哈 8*5=40 哈哈 8*6=48 哈哈 8*7=56 哈哈 8*8=64 哈哈 8*9=72 哈哈 \n",
      "EEEEEEEEEEEEE\n",
      "i=9\n",
      "9*1=9 哈哈 9*2=18 哈哈 9*3=27 哈哈 9*4=36 哈哈 9*5=45 哈哈 9*6=54 哈哈 9*7=63 哈哈 9*8=72 哈哈 9*9=81 哈哈 \n",
      "EEEEEEEEEEEEE\n"
     ]
    }
   ],
   "source": [
    "#巢狀迴圈\n",
    "for i in range(1,10):\n",
    "    print(f\"i={i}\")\n",
    "    for j in range(1,10):\n",
    "        #可以用f\"\"字串差補的方式進行四則運算，,用end=來不換行列印下面的哈哈是設定來做分隔的....\n",
    "        print(f\"{i}*{j}={i*j}\",end=\" 哈哈 \")\n",
    "        #在字串\"\"\"內使用\\n來進行換行列仙(因上面有使用end=設定成不換行列印)\n",
    "    print(\"\\nEEEEEEEEEEEEE\") "
   ]
  },
  {
   "cell_type": "code",
   "execution_count": 2,
   "metadata": {},
   "outputs": [],
   "source": [
    "#買機車1台，機車售價30000，每月存的錢輸入?，當存夠錢買車，就顯示提示訊息告知\n",
    "#會使用while迴圈，要小心容易造成無限迴圈\n",
    "#cg=int(input(\"gold?\"))\n",
    "#if car ==30000:\n",
    "    #print(\"你可以去買車了\")\n",
    "gold=0\n",
    "months =0\n",
    "while(gold<30000):\n",
    "    months += 1\n",
    "    cg=int(input(f\"輸入第{months}月的gold:\"))\n",
    "    #複合指定運算子+=\n",
    "    #一般迴圈寫法  gold=gold+cg\n",
    "    #使用複合指定運算子寫法：\n",
    "    gold += cg\n",
    "   \n",
    "print( f\"已存{months}個月,總存了{gold}$\") \n"
   ]
  },
  {
   "cell_type": "code",
   "execution_count": 1,
   "metadata": {},
   "outputs": [
    {
     "ename": "ValueError",
     "evalue": "invalid literal for int() with base 10: ''",
     "output_type": "error",
     "traceback": [
      "\u001b[0;31m---------------------------------------------------------------------------\u001b[0m",
      "\u001b[0;31mValueError\u001b[0m                                Traceback (most recent call last)",
      "Cell \u001b[0;32mIn[1], line 6\u001b[0m\n\u001b[1;32m      4\u001b[0m \u001b[39mwhile\u001b[39;00m(deposit\u001b[39m<\u001b[39m\u001b[39m30000\u001b[39m):\n\u001b[1;32m      5\u001b[0m     months \u001b[39m+\u001b[39m\u001b[39m=\u001b[39m \u001b[39m1\u001b[39m\n\u001b[0;32m----> 6\u001b[0m     value \u001b[39m=\u001b[39m \u001b[39mint\u001b[39;49m(\u001b[39minput\u001b[39;49m(\u001b[39mf\u001b[39;49m\u001b[39m\"\u001b[39;49m\u001b[39m請輸入第\u001b[39;49m\u001b[39m{\u001b[39;49;00mmonths\u001b[39m}\u001b[39;49;00m\u001b[39m月份的存款:\u001b[39;49m\u001b[39m\"\u001b[39;49m))\n\u001b[1;32m      7\u001b[0m     deposit \u001b[39m+\u001b[39m\u001b[39m=\u001b[39m value\n\u001b[1;32m      9\u001b[0m \u001b[39mprint\u001b[39m(\u001b[39mf\u001b[39m\u001b[39m\"\u001b[39m\u001b[39m已經存夠了,存了\u001b[39m\u001b[39m{\u001b[39;00mmonths\u001b[39m}\u001b[39;00m\u001b[39m個月,總存了\u001b[39m\u001b[39m{\u001b[39;00mdeposit\u001b[39m}\u001b[39;00m\u001b[39m元\u001b[39m\u001b[39m\"\u001b[39m)\n",
      "\u001b[0;31mValueError\u001b[0m: invalid literal for int() with base 10: ''"
     ]
    }
   ],
   "source": [
    "#小明想要存錢買一輛機車,機車每輛30000元，他將每月存的錢輸入，當存款足夠買機車時，就顯示提示訊息告知。\n",
    "deposit = 0\n",
    "months = 0\n",
    "while(deposit<30000):\n",
    "    months += 1\n",
    "    value = int(input(f\"請輸入第{months}月份的存款:\"))\n",
    "    deposit += value\n",
    "    \n",
    "print(f\"已經存夠了,存了{months}個月,總存了{deposit}元\")"
   ]
  }
 ],
 "metadata": {
  "kernelspec": {
   "display_name": "Python 3",
   "language": "python",
   "name": "python3"
  },
  "language_info": {
   "codemirror_mode": {
    "name": "ipython",
    "version": 3
   },
   "file_extension": ".py",
   "mimetype": "text/x-python",
   "name": "python",
   "nbconvert_exporter": "python",
   "pygments_lexer": "ipython3",
   "version": "3.10.8"
  },
  "orig_nbformat": 4
 },
 "nbformat": 4,
 "nbformat_minor": 2
}
