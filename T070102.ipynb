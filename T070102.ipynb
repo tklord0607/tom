{
 "cells": [
  {
   "cell_type": "code",
   "execution_count": null,
   "metadata": {},
   "outputs": [],
   "source": [
    "a1=input(\"a\")\n",
    "b1=input(\"b\")\n",
    "c1=a1+b1\n",
    "if a1 > b1:print(f\"{a1}\")\n",
    "if a1 < b1:print(f\"{b1}\")\n",
    "else:print(f\"{c1}\")\n",
    "\n"
   ]
  },
  {
   "cell_type": "code",
   "execution_count": null,
   "metadata": {},
   "outputs": [],
   "source": [
    "tt=int(input(\"tt(300)\"))\n",
    "s=input(\"stor(y,n)\")\n",
    "\n",
    "if s == \"y\":\n",
    "    tt=tt+tt*0.05\n",
    "    if tt>300:\n",
    "        tt=300\n",
    "\n",
    "print(f\"sttotil:{tt}\")\n",
    "\n"
   ]
  },
  {
   "cell_type": "code",
   "execution_count": null,
   "metadata": {},
   "outputs": [],
   "source": [
    "ci=int(input(\"ci\"))\n",
    "if ci < 60:\n",
    "    print(\"NG\")\n",
    "    \n",
    "else:\n",
    "    print(\"pass\")\n",
    "    if ci <80:\n",
    "        print(\"good\")\n",
    "    else:\n",
    "        print(\"GG!\")"
   ]
  },
  {
   "cell_type": "code",
   "execution_count": null,
   "metadata": {},
   "outputs": [],
   "source": [
    "A=int(input(\"A1\"))\n",
    "if A >= 90 and A<=100:\n",
    "    print(\"S\")\n",
    "    if A>=80 and A<=89:\n",
    "      print(\"A\")\n",
    "      if A>=70 and A<=79:\n",
    "         print(\"b\")\n",
    "         if A>60 and A<=69:\n",
    "            print(\"c\")\n",
    "            if A>=0 and A<=59:\n",
    "               print(\"GG!\")\n",
    "    \n"
   ]
  },
  {
   "cell_type": "code",
   "execution_count": null,
   "metadata": {},
   "outputs": [],
   "source": [
    "A=int(input(\"A1\"))\n",
    "if A >= 90:\n",
    "   print(\"S\")\n",
    "else:\n",
    "    if A>=80:\n",
    "      print(\"A\")\n",
    "    else:\n",
    "      if A>=70:\n",
    "         print(\"b\")\n",
    "      else:\n",
    "         if A>60:\n",
    "            print(\"c\")\n",
    "         else:\n",
    "            print(\"GG!\")"
   ]
  },
  {
   "cell_type": "code",
   "execution_count": null,
   "metadata": {},
   "outputs": [],
   "source": [
    "A=int(input(\"A1\"))\n",
    "if A>100:\n",
    "        print(\"omg\")\n",
    "elif A >= 90:\n",
    "   print(\"S\")\n",
    "elif A>=80:\n",
    "      print(\"A\")\n",
    "elif A>=70:\n",
    "         print(\"b\")\n",
    "elif A>60:\n",
    "            print(\"c\")\n",
    "else:\n",
    "            print(\"GG!\")"
   ]
  },
  {
   "cell_type": "code",
   "execution_count": null,
   "metadata": {},
   "outputs": [],
   "source": [
    "chi=int(input(\"chi?\"))\n",
    "eng=int(input(\"eng?\"))\n",
    "\n",
    "if chi >= 100:\n",
    "    print(\"chi OK 100\")\n",
    "else:\n",
    "    print(\"chi no 100\")\n",
    "\n",
    "if eng >= 100:\n",
    "    print(\"eng ok 100\")\n",
    "else:\n",
    "    print(\"eng no 100\")\n",
    "if chi>=100 and eng>=100:\n",
    "    print(\"$1000\")\n",
    "elif chi>=100 or eng>=100:\n",
    "    print(\"$500\")\n",
    "else:\n",
    "    print(\"0\")\n"
   ]
  },
  {
   "cell_type": "code",
   "execution_count": null,
   "metadata": {},
   "outputs": [],
   "source": [
    "chi=int(input(\"chi?\"))\n",
    "eng=int(input(\"eng?\"))\n",
    "if chi == 100:\n",
    "    print(\"chi OK 100\")\n",
    "else:\n",
    "    print(\"chi no 100\")\n",
    "\n",
    "if eng == 100:\n",
    "    print(\"eng ok 100\")\n",
    "else:\n",
    "    print(\"eng no 100\")\n",
    "if chi==100 and eng==100:\n",
    "    print(\"$1000\")\n",
    "elif chi==100 or eng==100:\n",
    "    print(\"$500\")\n",
    "else:\n",
    "    print(\"0\")"
   ]
  },
  {
   "cell_type": "code",
   "execution_count": null,
   "metadata": {},
   "outputs": [],
   "source": [
    "chi=int(input(\"chi?\"))\n",
    "if not chi==100:\n",
    "    print(\"gg go d\")"
   ]
  },
  {
   "cell_type": "code",
   "execution_count": null,
   "metadata": {},
   "outputs": [],
   "source": [
    "for i in range(5,100,10):\n",
    "    print(i)"
   ]
  },
  {
   "cell_type": "code",
   "execution_count": null,
   "metadata": {},
   "outputs": [],
   "source": [
    "r=0\n",
    "for i in range(1,101):\n",
    "    r=r+i\n",
    "print(f\"1~100={r}\")"
   ]
  },
  {
   "cell_type": "markdown",
   "metadata": {},
   "source": [
    "20230708"
   ]
  },
  {
   "cell_type": "code",
   "execution_count": null,
   "metadata": {},
   "outputs": [],
   "source": [
    "for i in range(1,10):\n",
    "    print(i)\n",
    " "
   ]
  },
  {
   "cell_type": "code",
   "execution_count": null,
   "metadata": {},
   "outputs": [],
   "source": [
    "for i in range(1,10,2):\n",
    "    print(i)\n",
    " "
   ]
  },
  {
   "cell_type": "code",
   "execution_count": null,
   "metadata": {},
   "outputs": [],
   "source": [
    "#巢狀迴圈\n",
    "for i in range(1,10):\n",
    "    print(f\"i={i}\")\n",
    "    for j in range(1,10):\n",
    "        #可以用f\"\"字串差補的方式進行四則運算，,用end=來不換行列印下面的哈哈是設定來做分隔的....\n",
    "        print(f\"{i}*{j}={i*j}\",end=\"哈哈\")\n",
    "        #在字串\"\"\"內使用\\n來進行換行列仙(因上面有使用end=設定成不換行列印)\n",
    "    print(\"\\nEEEEEEEEEEEEE\") "
   ]
  },
  {
   "cell_type": "code",
   "execution_count": null,
   "metadata": {},
   "outputs": [],
   "source": [
    "#買機車1台，機車售價30000，每月存的錢輸入?，當存夠錢買車，就顯示提示訊息告知\n",
    "#會使用while迴圈，要小心容易造成無限迴圈\n",
    "#cg=int(input(\"gold?\"))\n",
    "#if car ==30000:\n",
    "    #print(\"你可以去買車了\")\n",
    "gold=0\n",
    "months =0\n",
    "while(gold<30000):\n",
    "    months += 1\n",
    "    cg=int(input(f\"輸入第{months}月的gold:\"))\n",
    "    #複合指定運算子+=\n",
    "    #一般迴圈寫法  gold=gold+cg\n",
    "    #使用複合指定運算子寫法：\n",
    "    gold += cg\n",
    "   \n",
    "print( f\"車價30000,已存{months}個月,總計:{gold}$,你可以去買車了\") \n"
   ]
  },
  {
   "cell_type": "code",
   "execution_count": null,
   "metadata": {},
   "outputs": [],
   "source": [
    "#小明想要存錢買一輛機車,機車每輛30000元，他將每月存的錢輸入，當存款足夠買機車時，就顯示提示訊息告知。\n",
    "#不確認要執行幾次的迴圈就用while，以下是使用範例\n",
    "deposit = 0\n",
    "months = 0\n",
    "while(deposit<30000):\n",
    "    months += 1\n",
    "    value = int(input(f\"請輸入第{months}月份的存款:\"))\n",
    "    deposit += value\n",
    "    \n",
    "print(f\"已經存夠了,存了{months}個月,總存了{deposit}元\") "
   ]
  },
  {
   "cell_type": "code",
   "execution_count": 2,
   "metadata": {},
   "outputs": [
    {
     "name": "stdout",
     "output_type": "stream",
     "text": [
      "所有輸入的正數的加總是:6\n",
      "所有輸入的正數的加總是:12\n",
      "所有輸入的正數的加總是:14\n",
      "所有輸入的正數的加總是:18\n"
     ]
    },
    {
     "ename": "ValueError",
     "evalue": "invalid literal for int() with base 10: '0.'",
     "output_type": "error",
     "traceback": [
      "\u001b[0;31m---------------------------------------------------------------------------\u001b[0m",
      "\u001b[0;31mValueError\u001b[0m                                Traceback (most recent call last)",
      "Cell \u001b[0;32mIn[2], line 7\u001b[0m\n\u001b[1;32m      5\u001b[0m \u001b[39mwhile\u001b[39;00m \u001b[39mTrue\u001b[39;00m:\n\u001b[1;32m      6\u001b[0m     num \u001b[39m+\u001b[39m\u001b[39m=\u001b[39m\u001b[39m1\u001b[39m\n\u001b[0;32m----> 7\u001b[0m     a1\u001b[39m=\u001b[39m\u001b[39mint\u001b[39;49m(\u001b[39minput\u001b[39;49m(\u001b[39mf\u001b[39;49m\u001b[39m\"\u001b[39;49m\u001b[39m請輸入第\u001b[39;49m\u001b[39m{\u001b[39;49;00mnum\u001b[39m}\u001b[39;49;00m\u001b[39m個數值\u001b[39;49m\u001b[39m\"\u001b[39;49m))\n\u001b[1;32m      8\u001b[0m     \u001b[39mif\u001b[39;00m a1 \u001b[39m<\u001b[39m \u001b[39m0\u001b[39m:\n\u001b[1;32m      9\u001b[0m         \u001b[39mbreak\u001b[39;00m\n",
      "\u001b[0;31mValueError\u001b[0m: invalid literal for int() with base 10: '0.'"
     ]
    }
   ],
   "source": [
    "#break 條件成False 後面的程式就不執行了\n",
    "#continue 條件成false後面就不執行了，執行另一個迴圈\n",
    "sum=0\n",
    "num=0\n",
    "while True:\n",
    "    num +=1\n",
    "    a1=int(input(f\"請輸入第{num}個數值\"))\n",
    "    if a1 < 0:\n",
    "        break\n",
    "    elif a1 % 2==1:\n",
    "        continue\n",
    "    else:\n",
    "        sum += a1\n",
    "    print(f\"所有輸入的正數的加總是:{sum}\")\n",
    "          \n",
    "        "
   ]
  },
  {
   "cell_type": "code",
   "execution_count": 2,
   "metadata": {},
   "outputs": [
    {
     "name": "stdout",
     "output_type": "stream",
     "text": [
      "所有輸入的正偶數的加總是:0\n",
      "所有輸入的正偶數的加總是:2\n",
      "所有輸入的正偶數的加總是:2\n"
     ]
    }
   ],
   "source": [
    "sum = 0\n",
    "num = 0\n",
    "while True:\n",
    "    num += 1\n",
    "    input_value = int(input(f\"請輸入第{num}個數值:\"))\n",
    "    if input_value < 0:\n",
    "        break\n",
    "    elif input_value % 2 == 1:\n",
    "        pass\n",
    "    else:\n",
    "        sum += input_value\n",
    "    print(f\"所有輸入的正偶數的加總是:{sum}\")"
   ]
  },
  {
   "cell_type": "code",
   "execution_count": null,
   "metadata": {},
   "outputs": [],
   "source": [
    "#亂數 random使用方法\n",
    "import random\n",
    "random.randrange(10)\n",
    "random.randrange(1,10)"
   ]
  },
  {
   "cell_type": "code",
   "execution_count": 3,
   "metadata": {},
   "outputs": [
    {
     "ename": "IndentationError",
     "evalue": "expected an indented block after function definition on line 2 (2098717784.py, line 3)",
     "output_type": "error",
     "traceback": [
      "\u001b[0;36m  Cell \u001b[0;32mIn[3], line 3\u001b[0;36m\u001b[0m\n\u001b[0;31m    min = 1\u001b[0m\n\u001b[0m    ^\u001b[0m\n\u001b[0;31mIndentationError\u001b[0m\u001b[0;31m:\u001b[0m expected an indented block after function definition on line 2\n"
     ]
    }
   ],
   "source": [
    "import random\n",
    "def playgame():\n",
    "min = 1\n",
    "max = 100\n",
    "c=0\n",
    "t=random.randint(min,max)\n",
    "print(\"====???====\\n\\n\")\n",
    "    \n",
    "while True:\n",
    "    k=int(input(f\"??範圍{min}~~{max}:\"))\n",
    "    c +=1\n",
    "    if(k == t):\n",
    "        print(f\"Yes,正確:{t}\")\n",
    "        print(f\"你共猜了{c}次\")\n",
    "        break\n",
    "    elif k>t:\n",
    "        print(\"小一點\")\n",
    "        max=k-1\n",
    "    elif k<t:\n",
    "        print(\"大一點\")\n",
    "        min=k+1 \n",
    "        print(\"NO\")\n",
    "        print(f\"你已猜了{c}次\")\n",
    "while(True):\n",
    "    playgame()\n",
    "    GO= input(\"再玩一次?(y,n)\")\n",
    "    if not (GO ==\"y\"):\n",
    "        break\n",
    "print(\"GG\")"
   ]
  }
 ],
 "metadata": {
  "kernelspec": {
   "display_name": "Python 3",
   "language": "python",
   "name": "python3"
  },
  "language_info": {
   "codemirror_mode": {
    "name": "ipython",
    "version": 3
   },
   "file_extension": ".py",
   "mimetype": "text/x-python",
   "name": "python",
   "nbconvert_exporter": "python",
   "pygments_lexer": "ipython3",
   "version": "3.10.8"
  },
  "orig_nbformat": 4
 },
 "nbformat": 4,
 "nbformat_minor": 2
}
